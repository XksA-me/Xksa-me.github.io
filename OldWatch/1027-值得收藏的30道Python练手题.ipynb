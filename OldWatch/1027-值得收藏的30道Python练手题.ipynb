{
 "cells": [
  {
   "cell_type": "code",
   "execution_count": 2,
   "id": "68b80902",
   "metadata": {},
   "outputs": [
    {
     "name": "stdout",
     "output_type": "stream",
     "text": [
      "Python 3.10.0\r\n"
     ]
    }
   ],
   "source": [
    "!python3 --version"
   ]
  },
  {
   "cell_type": "markdown",
   "id": "1faf2da8",
   "metadata": {},
   "source": [
    "## 1. 已知一个字符串为 “hello_world_yoyo”，如何得到一个队列 [“hello”,”world”,”yoyo”] ？"
   ]
  },
  {
   "cell_type": "code",
   "execution_count": 9,
   "id": "49a4d0f2",
   "metadata": {},
   "outputs": [
    {
     "data": {
      "text/plain": [
       "['hello', 'world', 'yoyo']"
      ]
     },
     "execution_count": 9,
     "metadata": {},
     "output_type": "execute_result"
    }
   ],
   "source": [
    "a = 'hello_world_yoyo'\n",
    "a.split('_')   # 对字符串进行分割"
   ]
  },
  {
   "cell_type": "markdown",
   "id": "cf296a74",
   "metadata": {},
   "source": [
    "## 2. 有个列表 [“hello”, “world”, “yoyo”]，如何把列表里面的字符串联起来，得到字符串 “hello_world_yoyo”？"
   ]
  },
  {
   "cell_type": "code",
   "execution_count": 11,
   "id": "86676573",
   "metadata": {},
   "outputs": [
    {
     "data": {
      "text/plain": [
       "'hello_world_yoyo'"
      ]
     },
     "execution_count": 11,
     "metadata": {},
     "output_type": "execute_result"
    }
   ],
   "source": [
    "a = ['hello', 'world', 'yoyo']\n",
    "'_'.join(a)  # 连接列表为字符串"
   ]
  },
  {
   "cell_type": "markdown",
   "id": "177a0bf2",
   "metadata": {},
   "source": [
    "## 3. 把字符串 s 中的每个空格替换成”%20”，输入：s = “We are happy.”，输出：“We%20are%20happy.”。"
   ]
  },
  {
   "cell_type": "code",
   "execution_count": 12,
   "id": "3eb0d142",
   "metadata": {},
   "outputs": [
    {
     "data": {
      "text/plain": [
       "'“We%20are%20happy.”'"
      ]
     },
     "execution_count": 12,
     "metadata": {},
     "output_type": "execute_result"
    }
   ],
   "source": [
    "s = '“We are happy.”'\n",
    "s.replace(' ', '%20')  # 将字符串中指定符号替换成指定符号"
   ]
  },
  {
   "cell_type": "markdown",
   "id": "75259af5",
   "metadata": {},
   "source": [
    "## 4. Python 如何打印 99 乘法表？"
   ]
  },
  {
   "cell_type": "code",
   "execution_count": 13,
   "id": "773b47a3",
   "metadata": {},
   "outputs": [
    {
     "name": "stdout",
     "output_type": "stream",
     "text": [
      "1x1=1\t\n",
      "1x2=2\t2x2=4\t\n",
      "1x3=3\t2x3=6\t3x3=9\t\n",
      "1x4=4\t2x4=8\t3x4=12\t4x4=16\t\n",
      "1x5=5\t2x5=10\t3x5=15\t4x5=20\t5x5=25\t\n",
      "1x6=6\t2x6=12\t3x6=18\t4x6=24\t5x6=30\t6x6=36\t\n",
      "1x7=7\t2x7=14\t3x7=21\t4x7=28\t5x7=35\t6x7=42\t7x7=49\t\n",
      "1x8=8\t2x8=16\t3x8=24\t4x8=32\t5x8=40\t6x8=48\t7x8=56\t8x8=64\t\n",
      "1x9=9\t2x9=18\t3x9=27\t4x9=36\t5x9=45\t6x9=54\t7x9=63\t8x9=72\t9x9=81\t\n"
     ]
    }
   ],
   "source": [
    "# 1*1 \n",
    "# 1*2 2*2\n",
    "# 1*3 2*3 3*3\n",
    "for i in range(1, 10):\n",
    "    for j in range(1, i+1):\n",
    "        print('{}x{}={}\\t'.format(j, i, i*j), end='')  # format 格式化输出的函数\n",
    "    print()"
   ]
  },
  {
   "cell_type": "code",
   "execution_count": 17,
   "id": "18e31ba2",
   "metadata": {},
   "outputs": [
    {
     "name": "stdout",
     "output_type": "stream",
     "text": [
      "1x1=1  \n",
      "2x1=2  2x2=4  \n",
      "3x1=3  3x2=6  3x3=9  \n",
      "4x1=4  4x2=8  4x3=12 4x4=16 \n",
      "5x1=5  5x2=10 5x3=15 5x4=20 5x5=25 \n",
      "6x1=6  6x2=12 6x3=18 6x4=24 6x5=30 6x6=36 \n",
      "7x1=7  7x2=14 7x3=21 7x4=28 7x5=35 7x6=42 7x7=49 \n",
      "8x1=8  8x2=16 8x3=24 8x4=32 8x5=40 8x6=48 8x7=56 8x8=64 \n",
      "9x1=9  9x2=18 9x3=27 9x4=36 9x5=45 9x6=54 9x7=63 9x8=72 9x9=81 \n"
     ]
    }
   ],
   "source": [
    "i = 1\n",
    "while i <= 9:\n",
    "    j = 1\n",
    "    while j <= i:\n",
    "        print(\"%dx%d=%-2d\"%(i,j,i*j),end = ' ')  # %d： 整数的占位符，'-2'代表靠左对齐，两个占位符\n",
    "        j += 1\n",
    "    print()\n",
    "    i += 1"
   ]
  },
  {
   "cell_type": "markdown",
   "id": "1dc9500c",
   "metadata": {},
   "source": [
    "## 5. 从下标 0 开始索引，找出单词 “welcome” 在字符串“Hello, welcome to my world.” 中出现的位置，找不到返回 -1。"
   ]
  },
  {
   "cell_type": "code",
   "execution_count": 18,
   "id": "99d37c44",
   "metadata": {},
   "outputs": [
    {
     "name": "stdout",
     "output_type": "stream",
     "text": [
      "7\n"
     ]
    }
   ],
   "source": [
    "def find_str():\n",
    "    message = 'Hello, welcome to my world.'\n",
    "    world = 'welcome'\n",
    "    if world in message:\n",
    "        return message.find(world)  # 字符串里的函数find 返回指定的字符串出现在字符串内的位置（下标）\n",
    "    else:\n",
    "        return -1\n",
    "\n",
    "\n",
    "print(find_str())"
   ]
  },
  {
   "cell_type": "markdown",
   "id": "f6907084",
   "metadata": {},
   "source": [
    "## 6. 统计字符串“Hello, welcome to my world.” 中字母 w 出现的次数。"
   ]
  },
  {
   "cell_type": "code",
   "execution_count": 19,
   "id": "ae053f58",
   "metadata": {},
   "outputs": [
    {
     "name": "stdout",
     "output_type": "stream",
     "text": [
      "2\n"
     ]
    }
   ],
   "source": [
    "def count_w():\n",
    "    message = 'Hello, welcome to my world.'\n",
    "    # 计数\n",
    "    num = 0\n",
    "    # for 循环 message\n",
    "    for i in message:\n",
    "        # 判断如果 ‘w’ 字符串在 message 中，则 num +1\n",
    "        if 'w' in i:\n",
    "            num += 1\n",
    "    return num\n",
    "\n",
    "\n",
    "print(count_w())"
   ]
  },
  {
   "cell_type": "markdown",
   "id": "850664f9",
   "metadata": {},
   "source": [
    "## 7. 输入一个字符串 str，输出第 m 个只出现过 n 次的字符，如在字符串 gbgkkdehh 中，找出第 2 个只出现 1 次的字符，输出结果：d"
   ]
  },
  {
   "cell_type": "code",
   "execution_count": 20,
   "id": "9bfeda8b",
   "metadata": {},
   "outputs": [
    {
     "name": "stdout",
     "output_type": "stream",
     "text": [
      "d\n"
     ]
    }
   ],
   "source": [
    "def count_n_m(str_test, num, counts):\n",
    "    \"\"\"\n",
    "    :param str_test: 字符串\n",
    "    :param num: 字符串的顺序\n",
    "    :param count: 字符串第几次出现的次数\n",
    "    :return:\n",
    "    \"\"\"\n",
    "    # 定义一个空数组，存放逻辑处理后的数据\n",
    "    list = []\n",
    "\n",
    "    # for循环字符串的数据\n",
    "    for i in str_test:\n",
    "        # 使用 count 函数，统计出所有字符串出现的次数\n",
    "        count = str_test.count(i, 0, len(str_test))\n",
    "\n",
    "        # 判断字符串出现的次数与设置的counts的次数相同，则将数据存放在list数组中\n",
    "        if count == num:\n",
    "            list.append(i)\n",
    "\n",
    "    # 返回第n次出现的字符串\n",
    "    return list[counts-1]\n",
    "\n",
    "\n",
    "print(count_n_m('gbgkkdehh', 1, 2))"
   ]
  },
  {
   "cell_type": "markdown",
   "id": "df640e4c",
   "metadata": {},
   "source": [
    "## 8. 判断字符串 a = “welcome to my world” 是否包含单词 b = “world”，包含返回 True，不包含返回 False。"
   ]
  },
  {
   "cell_type": "code",
   "execution_count": 8,
   "id": "43153dfb",
   "metadata": {},
   "outputs": [],
   "source": [
    "a = \"welcometomyworld\"\n",
    "b = \"world\""
   ]
  },
  {
   "cell_type": "code",
   "execution_count": 2,
   "id": "a9096183",
   "metadata": {},
   "outputs": [
    {
     "data": {
      "text/plain": [
       "True"
      ]
     },
     "execution_count": 2,
     "metadata": {},
     "output_type": "execute_result"
    }
   ],
   "source": [
    "b in a"
   ]
  },
  {
   "cell_type": "code",
   "execution_count": 5,
   "id": "46fd6acf",
   "metadata": {},
   "outputs": [
    {
     "data": {
      "text/plain": [
       "True"
      ]
     },
     "execution_count": 5,
     "metadata": {},
     "output_type": "execute_result"
    }
   ],
   "source": [
    "a.__contains__(b)  "
   ]
  },
  {
   "cell_type": "code",
   "execution_count": 6,
   "id": "d955505b",
   "metadata": {},
   "outputs": [
    {
     "data": {
      "text/plain": [
       "True"
      ]
     },
     "execution_count": 6,
     "metadata": {},
     "output_type": "execute_result"
    }
   ],
   "source": [
    "a.find(b) != -1"
   ]
  },
  {
   "cell_type": "code",
   "execution_count": 22,
   "id": "3f2a3275",
   "metadata": {},
   "outputs": [
    {
     "data": {
      "text/plain": [
       "True"
      ]
     },
     "execution_count": 22,
     "metadata": {},
     "output_type": "execute_result"
    }
   ],
   "source": [
    "def find_ab(a, b):\n",
    "    flag = 0  # 移动指针\n",
    "    for i in range(len(a)):\n",
    "        if b.find(a[i])== flag:  \n",
    "            flag +=1  # 后移\n",
    "        else:  # 发现不相等了，直接指针置于初始位置\n",
    "            flag = 0\n",
    "        if flag == len(b):  # 指针已经指向最后一个元素，说明a包含b\n",
    "            return True\n",
    "    # 没找到，返回False\n",
    "    return False\n",
    "\n",
    "a = \"welc ometomy world\"\n",
    "b = \"world\"\n",
    "find_ab(a, b)     "
   ]
  },
  {
   "cell_type": "code",
   "execution_count": 37,
   "id": "883b11ea",
   "metadata": {},
   "outputs": [
    {
     "data": {
      "text/plain": [
       "True"
      ]
     },
     "execution_count": 37,
     "metadata": {},
     "output_type": "execute_result"
    }
   ],
   "source": [
    "def find_ab(a, b):\n",
    "    flag = 0\n",
    "    for i in range(len(a)):\n",
    "        for j in range(len(b)):\n",
    "            # print(i ,j , len(b)-1, b[j], a[i+j])\n",
    "            if b[j] == a[i+j]: \n",
    "                # 两个元素相等 且为b的最后一个元素，说明a包含b\n",
    "                if j == len(b)-1:\n",
    "                    return True\n",
    "                # 两个元素相等 但是还没遍历完b，则继续遍历\n",
    "                continue\n",
    "            else: # 两个元素不相等，直接往后遍历a再开始比较\n",
    "                break\n",
    "    # 没找到，返回False    \n",
    "    return False\n",
    "\n",
    "a = \"welc ometomy world\"\n",
    "b = \"worl\"\n",
    "find_ab(a, b)     "
   ]
  },
  {
   "cell_type": "markdown",
   "id": "1410ffef",
   "metadata": {},
   "source": [
    "## 9. 从 0 开始计数，输出指定字符串 A = “hello” 在字符串 B = “hi how are you hello world, hello yoyo!”中第一次出现的位置，如果 B 中不包含 A，则输出 -1。"
   ]
  },
  {
   "cell_type": "code",
   "execution_count": 21,
   "id": "30b53297",
   "metadata": {},
   "outputs": [],
   "source": [
    "b = '“hi how are you hello world, hello yoyo!”'\n",
    "a = 'hello'"
   ]
  },
  {
   "cell_type": "code",
   "execution_count": 24,
   "id": "d16f28c7",
   "metadata": {},
   "outputs": [
    {
     "name": "stdout",
     "output_type": "stream",
     "text": [
      "15\n"
     ]
    }
   ],
   "source": [
    "def find_str_first():\n",
    "    message = 'hi how are you hello world, hello yoyo!'\n",
    "    world = 'hello'\n",
    "\n",
    "    return message.find(world)\n",
    "\n",
    "\n",
    "print(find_str_first())"
   ]
  },
  {
   "cell_type": "markdown",
   "id": "c40e210a",
   "metadata": {},
   "source": [
    "## 10. 从 0 开始计数，输出指定字符串 A = “hello”在字符串 B = “hi how are you hello world, hello yoyo!”中最后出现的位置，如果 B 中不包含 A，则输出 -1。"
   ]
  },
  {
   "cell_type": "code",
   "execution_count": 27,
   "id": "8a42559e",
   "metadata": {},
   "outputs": [
    {
     "name": "stdout",
     "output_type": "stream",
     "text": [
      "15\n",
      "28\n",
      "-1\n",
      "28\n"
     ]
    }
   ],
   "source": [
    "def find_str_final(string, str):\n",
    "    # 定义 last_position 初始值为 -1\n",
    "    last_position = -1\n",
    "    while True:\n",
    "        position = string.find(str, last_position+1)  # 当find找不到的时候，就会变成-1\n",
    "        print(position)\n",
    "        if position == -1:\n",
    "            return last_position\n",
    "        last_position = position\n",
    "\n",
    "\n",
    "print(find_str_final('hi how are you hello world, hello yoyo!', 'hello'))"
   ]
  },
  {
   "cell_type": "markdown",
   "id": "adb9d8cd",
   "metadata": {},
   "source": [
    "## 11. 给定一个数 a，判断一个数字是否为奇数或偶数。"
   ]
  },
  {
   "cell_type": "code",
   "execution_count": 33,
   "id": "6486dfda",
   "metadata": {},
   "outputs": [
    {
     "name": "stdout",
     "output_type": "stream",
     "text": [
      "输入一个整数：3\n",
      "奇数\n",
      "输入一个整数：6\n",
      "偶数\n",
      "输入一个整数：0\n"
     ]
    }
   ],
   "source": [
    "while True:\n",
    "    try:\n",
    "        # 判断输入是否为整数\n",
    "        num = int(input('输入一个整数：'))\n",
    "    # 不是纯数字需要重新输入\n",
    "    except ValueError: \n",
    "        print(\"输入的不是整数！\")\n",
    "        continue\n",
    "    if num == 0:\n",
    "        break\n",
    "    elif num % 2 == 1:\n",
    "        print('奇数')\n",
    "    else:\n",
    "        print('偶数')"
   ]
  },
  {
   "cell_type": "markdown",
   "id": "f67d1bab",
   "metadata": {},
   "source": [
    "## 12. 输入一个姓名，判断是否姓王。"
   ]
  },
  {
   "cell_type": "code",
   "execution_count": null,
   "id": "7b15fd57",
   "metadata": {},
   "outputs": [],
   "source": [
    "def judge_name():\n",
    "    user_input = input(\"请输入您的姓名：\")\n",
    "\n",
    "    if user_input[0] == '王':\n",
    "        return \"用户姓王\"\n",
    "\n",
    "    return \"用户不姓王\"\n",
    "\n",
    "print(test())"
   ]
  },
  {
   "cell_type": "markdown",
   "id": "f8a54965",
   "metadata": {},
   "source": [
    "## 13. 如何判断一个字符串是不是纯数字组成？"
   ]
  },
  {
   "cell_type": "code",
   "execution_count": 36,
   "id": "2e520b58",
   "metadata": {},
   "outputs": [
    {
     "name": "stdout",
     "output_type": "stream",
     "text": [
      "请输入数字\n"
     ]
    }
   ],
   "source": [
    "def judge_int(num):\n",
    "    try:\n",
    "        return int(num)\n",
    "    except ValueError:\n",
    "        return \"请输入数字\"\n",
    "\n",
    "\n",
    "print(judge_int('133w3'))"
   ]
  },
  {
   "cell_type": "markdown",
   "id": "50de12e0",
   "metadata": {},
   "source": [
    "## 14. 将字符串 a = “This is string example….wow!” 全部转成大写，字符串 b = “Welcome To My World” 全部转成小写。"
   ]
  },
  {
   "cell_type": "code",
   "execution_count": 37,
   "id": "9c4c1c32",
   "metadata": {},
   "outputs": [
    {
     "name": "stdout",
     "output_type": "stream",
     "text": [
      "“THIS IS STRING EXAMPLE….WOW!” \n",
      "“welcome to my world”\n"
     ]
    }
   ],
   "source": [
    "a = '“This is string example….wow!” '\n",
    "b = '“Welcome To My World”'\n",
    "print(a.upper())\n",
    "print(b.lower())"
   ]
  },
  {
   "cell_type": "markdown",
   "id": "550c71c1",
   "metadata": {},
   "source": [
    "## 15. 将字符串 a = “ welcome to my world ”首尾空格去掉"
   ]
  },
  {
   "cell_type": "code",
   "execution_count": 42,
   "id": "a6a2e618",
   "metadata": {},
   "outputs": [
    {
     "data": {
      "text/plain": [
       "'welcome to my world'"
      ]
     },
     "execution_count": 42,
     "metadata": {},
     "output_type": "execute_result"
    }
   ],
   "source": [
    "a = ' welcome to my world  '\n",
    "a.strip(' ')"
   ]
  },
  {
   "cell_type": "code",
   "execution_count": 43,
   "id": "42946908",
   "metadata": {},
   "outputs": [
    {
     "name": "stdout",
     "output_type": "stream",
     "text": [
      "Hello world!\n"
     ]
    }
   ],
   "source": [
    "def trim(s):\n",
    "    flag = 0\n",
    "    if s[:1]==' ':\n",
    "        s = s[1:]\n",
    "        flag = 1\n",
    "    if s[-1:] == ' ':\n",
    "        s = s[:-1]\n",
    "        flag = 1\n",
    "    if flag==1:\n",
    "        return    trim(s)\n",
    "    else:\n",
    "        return s\n",
    "print(trim('  Hello world!  '))"
   ]
  },
  {
   "cell_type": "markdown",
   "id": "4210f746",
   "metadata": {},
   "source": [
    "## 16. 将字符串 s = “ajldjlajfdljfddd”，去重并从小到大排序输出”adfjl”。"
   ]
  },
  {
   "cell_type": "code",
   "execution_count": 38,
   "id": "50352dee",
   "metadata": {},
   "outputs": [
    {
     "name": "stdout",
     "output_type": "stream",
     "text": [
      "adfjl\n"
     ]
    }
   ],
   "source": [
    "def test():\n",
    "    s = 'ajldjlajfdljfddd'\n",
    "    # 定义一个数组存放数据\n",
    "    str_list = []\n",
    "    # for循环s字符串中的数据，然后将数据加入数组中\n",
    "    for i in s:\n",
    "        # 判断如果数组中已经存在这个字符串，则将字符串移除，加入新的字符串\n",
    "        if i in str_list:\n",
    "            str_list.remove(i)\n",
    "\n",
    "        str_list.append(i)\n",
    "    # 使用 sorted 方法，对字母进行排序\n",
    "    a = sorted(str_list)\n",
    "    # sorted方法返回的是一个列表，这边将列表数据转换成字符串\n",
    "    return \"\".join(a)\n",
    "\n",
    "\n",
    "print(test())"
   ]
  },
  {
   "attachments": {
    "image.png": {
     "image/png": "[encoded data removed]"
    }
   },
   "cell_type": "markdown",
   "id": "74bcf3d7",
   "metadata": {},
   "source": [
    "## 17. 打印出如下图案（菱形）\n",
    "![image.png](attachment:image.png)"
   ]
  },
  {
   "cell_type": "code",
   "execution_count": 42,
   "id": "90fae43d",
   "metadata": {},
   "outputs": [
    {
     "name": "stdout",
     "output_type": "stream",
     "text": [
      "    *\n",
      "   ***\n",
      "  *****\n",
      " *******\n",
      "  *****\n",
      "   ***\n",
      "    *\n"
     ]
    }
   ],
   "source": [
    "def test():\n",
    "    n = 7\n",
    "    for i in range(-int(n/2), int(n/2) + 1):\n",
    "        print(\" \"*abs(i), \"*\"*abs(n-abs(i)*2))\n",
    "\n",
    "\n",
    "test()"
   ]
  },
  {
   "cell_type": "markdown",
   "id": "4bd3aa92",
   "metadata": {},
   "source": [
    "## 18.  给一个不多于 5 位的正整数（如 a = 12346），求它是几位数和逆序打印出各位数字。"
   ]
  },
  {
   "cell_type": "code",
   "execution_count": 44,
   "id": "f64606b2",
   "metadata": {},
   "outputs": [
    {
     "name": "stdout",
     "output_type": "stream",
     "text": [
      "1\n"
     ]
    }
   ],
   "source": [
    "class Test:\n",
    "\n",
    "    # 计算数字的位数\n",
    "    def test_num(self, num):\n",
    "        try:\n",
    "            # 定义一个 length 的变量，来计算数字的长度\n",
    "            length = 0\n",
    "            while num != 0:\n",
    "                # 判断当 num 不为 0 的时候，则每次都除以10取整\n",
    "                length += 1\n",
    "                num = int(num) // 10\n",
    "            if length > 5:\n",
    "                return \"请输入正确的数字\"\n",
    "            return length\n",
    "        except ValueError:\n",
    "            return \"请输入正确的数字\"\n",
    "\n",
    "    # 逆序打印出个位数\n",
    "    def test_sorted(self, num):\n",
    "        if self.test_num(num) != \"请输入正确的数字\":\n",
    "            # 逆序打印出数字\n",
    "            sorted_num = num[::-1]\n",
    "            # 返回逆序的个位数\n",
    "            return sorted_num[-1]\n",
    "\n",
    "print(Test().test_sorted('12346'))"
   ]
  },
  {
   "cell_type": "markdown",
   "id": "22c8cddf",
   "metadata": {},
   "source": [
    "## 19. 如果一个 3 位数等于其各位数字的立方和，则称这个数为水仙花数。例如：153 = 13 + 53 + 33，因此 153 就是一个水仙花数。那么如何求 1000 以内的水仙花数（3 位数）。"
   ]
  },
  {
   "cell_type": "code",
   "execution_count": 45,
   "id": "928f3a41",
   "metadata": {},
   "outputs": [
    {
     "name": "stdout",
     "output_type": "stream",
     "text": [
      "153是水仙花数\n",
      "370是水仙花数\n",
      "371是水仙花数\n",
      "407是水仙花数\n"
     ]
    }
   ],
   "source": [
    "def test():\n",
    "    for num in range(100, 1000):\n",
    "        i = num // 100\n",
    "        j = num // 10 % 10\n",
    "        k = num % 10\n",
    "        if i ** 3 + j ** 3 + k ** 3 == num:\n",
    "            print(str(num) + \"是水仙花数\")\n",
    "test()"
   ]
  },
  {
   "cell_type": "markdown",
   "id": "922bb5ce",
   "metadata": {},
   "source": [
    "## 20. 求 1+2+3…+100 相加的和。"
   ]
  },
  {
   "cell_type": "code",
   "execution_count": 46,
   "id": "2d79e0c9",
   "metadata": {},
   "outputs": [
    {
     "name": "stdout",
     "output_type": "stream",
     "text": [
      "5051\n"
     ]
    }
   ],
   "source": [
    "i = 1\n",
    "for j in range(101):\n",
    "    i = j + i\n",
    "\n",
    "print(i)"
   ]
  },
  {
   "cell_type": "markdown",
   "id": "26be2175",
   "metadata": {},
   "source": [
    "## 21. 计算 1-2+3-4+5-…-100 的值。"
   ]
  },
  {
   "cell_type": "code",
   "execution_count": 47,
   "id": "4163190a",
   "metadata": {},
   "outputs": [
    {
     "name": "stdout",
     "output_type": "stream",
     "text": [
      "-50\n"
     ]
    }
   ],
   "source": [
    "def test(sum_to):\n",
    "    \n",
    "    # 定义一个初始值\n",
    "    sum_all = 0\n",
    "    # 循环想要计算的数据\n",
    "    for i in range(1, sum_to + 1):\n",
    "        sum_all += i * (-1) ** (1 + i)\n",
    "    return sum_all\n",
    "\n",
    "\n",
    "if __name__ == '__main__':\n",
    "    result = test(sum_to=100)\n",
    "    print(result)"
   ]
  },
  {
   "cell_type": "markdown",
   "id": "30316743",
   "metadata": {},
   "source": [
    "## 22. 现有计算公式 13 + 23 + 33 + 43 + …….+ n3，如何实现：当输入 n = 5 时，输出 225（对应的公式 : 13 + 23 + 33 + 43 + 53 = 225）。"
   ]
  },
  {
   "cell_type": "code",
   "execution_count": 48,
   "id": "7923a974",
   "metadata": {},
   "outputs": [
    {
     "name": "stdout",
     "output_type": "stream",
     "text": [
      "165\n"
     ]
    }
   ],
   "source": [
    "def test(n):\n",
    "    sum = 0\n",
    "    for i in range(1, n+1):\n",
    "        sum += i*10+i\n",
    "    return sum\n",
    "\n",
    "print(test(5))"
   ]
  },
  {
   "cell_type": "markdown",
   "id": "0c0fa186",
   "metadata": {},
   "source": [
    "## 23. 已知 a 的值为“hello”，b 的值为“world”，如何交换 a 和 b 的值，得到 a 的值为“world”，b 的值为”hello”？"
   ]
  },
  {
   "cell_type": "code",
   "execution_count": 49,
   "id": "6fca517f",
   "metadata": {},
   "outputs": [
    {
     "name": "stdout",
     "output_type": "stream",
     "text": [
      "world hello\n"
     ]
    }
   ],
   "source": [
    "a = 'hello'\n",
    "b = 'world'\n",
    "\n",
    "c = a\n",
    "a = b\n",
    "b = c\n",
    "print(a, b)"
   ]
  },
  {
   "cell_type": "markdown",
   "id": "b88593c6",
   "metadata": {},
   "source": [
    "## 24. 如何判断一个数组是对称数组？\n",
    "- 例如 [1，2，0，2，1]，[1，2，3，3，2，1]，这样的数组都是对称数组。\n",
    "- 用 Python 判断，是对称数组打印 True，不是打印 False。"
   ]
  },
  {
   "cell_type": "code",
   "execution_count": 50,
   "id": "57939a2a",
   "metadata": {},
   "outputs": [
    {
     "name": "stdout",
     "output_type": "stream",
     "text": [
      "True\n"
     ]
    }
   ],
   "source": [
    "def test():\n",
    "    x = [1, 'a', 0, '2', 0, 'a', 1]\n",
    "    # 通过下标的形式，将字符串逆序进行比对\n",
    "    if x == x[::-1]:\n",
    "        return True\n",
    "    return False\n",
    "\n",
    "print(test())"
   ]
  },
  {
   "cell_type": "markdown",
   "id": "33d5d5c6",
   "metadata": {},
   "source": [
    "## 25. 如果有一个列表 a = [1,3,5,7,11]，那么如何让它反转成 [11,7,5,3,1]，并且取到奇数位值的数字 [1,5,11]？"
   ]
  },
  {
   "cell_type": "code",
   "execution_count": 51,
   "id": "fbb888d9",
   "metadata": {},
   "outputs": [
    {
     "name": "stdout",
     "output_type": "stream",
     "text": [
      "[11, 7, 5, 3, 1]\n",
      "1\n",
      "5\n",
      "11\n"
     ]
    }
   ],
   "source": [
    "def test():\n",
    "    a = [1, 3, 5, 7, 11]\n",
    "    # 逆序打印数组中的数据\n",
    "    print(a[::-1])\n",
    "    # 定义一个计数的变量\n",
    "    count = 0\n",
    "    for i in a:\n",
    "        # 判断每循环列表中的一个数据，则计数器中会 +1\n",
    "        count += 1\n",
    "        # 如果计数器为奇数，则打印出来\n",
    "        if count % 2 != 0:\n",
    "            print(i)\n",
    "\n",
    "\n",
    "test()"
   ]
  },
  {
   "cell_type": "markdown",
   "id": "d1328a6d",
   "metadata": {},
   "source": [
    "## 26. 对列表 a = [1, 6, 8, 11, 9, 1, 8, 6, 8, 7, 8] 中的数字从小到大排序。"
   ]
  },
  {
   "cell_type": "code",
   "execution_count": 52,
   "id": "78abfb10",
   "metadata": {},
   "outputs": [
    {
     "name": "stdout",
     "output_type": "stream",
     "text": [
      "[1, 1, 6, 6, 7, 8, 8, 8, 8, 9, 11]\n"
     ]
    }
   ],
   "source": [
    "a = [1, 6, 8, 11, 9, 1, 8, 6, 8, 7, 8]\n",
    "print(sorted(a))"
   ]
  },
  {
   "cell_type": "markdown",
   "id": "43f7ad87",
   "metadata": {},
   "source": [
    "## 27. 找出列表 L1 = [1, 2, 3, 11, 2, 5, 3, 2, 5, 33, 88] 中最大值和最小值。"
   ]
  },
  {
   "cell_type": "code",
   "execution_count": 53,
   "id": "e918d041",
   "metadata": {},
   "outputs": [
    {
     "name": "stdout",
     "output_type": "stream",
     "text": [
      "88\n",
      "1\n"
     ]
    }
   ],
   "source": [
    "L1 = [1, 2, 3, 11, 2, 5, 3, 2, 5, 33, 88]\n",
    "print(max(L1))\n",
    "print(min(L1))"
   ]
  },
  {
   "cell_type": "code",
   "execution_count": 57,
   "id": "683321ae",
   "metadata": {},
   "outputs": [
    {
     "data": {
      "text/plain": [
       "88"
      ]
     },
     "execution_count": 57,
     "metadata": {},
     "output_type": "execute_result"
    }
   ],
   "source": [
    "class Test(object):\n",
    "\n",
    "    def __init__(self):\n",
    "        # 测试的列表数据\n",
    "        self.L1 = [1, 2, 3, 11, 2, 5, 3, 2, 5, 33, 88]\n",
    "\n",
    "        # 从列表中取第一个值，对于数据大小比对\n",
    "        self.num = self.L1[0]\n",
    "\n",
    "    def test_small_num(self, count):\n",
    "        \"\"\"\n",
    "\n",
    "        :param count: count为 1，则表示计算最大值，为 2 时，表示最小值\n",
    "        :return:\n",
    "        \"\"\"\n",
    "        # for 循环查询列表中的数据\n",
    "        for i in self.L1:\n",
    "            if count == 1:\n",
    "                # 循环判断当数组中的数据比初始值小，则将初始值替换\n",
    "                if i > self.num:\n",
    "                    self.num = i\n",
    "            \n",
    "            elif count == 2:\n",
    "                if i < self.num:\n",
    "                    self.num = i\n",
    "                    \n",
    "            elif count != 1 or count != 2:\n",
    "                return \"请输入正确的数据\"\n",
    "\n",
    "        return self.num\n",
    "t0 = Test()\n",
    "t0.test_small_num(1)"
   ]
  },
  {
   "cell_type": "markdown",
   "id": "64636e79",
   "metadata": {},
   "source": [
    "## 28. 找出列表 a = [“hello”, “world”, “yoyo”, “congratulations”] 中单词最长的一个。"
   ]
  },
  {
   "cell_type": "code",
   "execution_count": 58,
   "id": "a298b2bb",
   "metadata": {},
   "outputs": [
    {
     "data": {
      "text/plain": [
       "'congratulations'"
      ]
     },
     "execution_count": 58,
     "metadata": {},
     "output_type": "execute_result"
    }
   ],
   "source": [
    "def test():\n",
    "    a = [\"hello\", \"world\", \"yoyo\", \"congratulations\"]\n",
    "    \n",
    "    # 统计数组中第一个值的长度\n",
    "    length = len(a[0])\n",
    "    \n",
    "    for i in a:\n",
    "        # 循环数组中的数据，当数组中的数据比初始值length中的值长，则替换掉length的默认值\n",
    "        if len(i) > length:\n",
    "            length = i\n",
    "    return length\n",
    "\n",
    "test()"
   ]
  },
  {
   "cell_type": "markdown",
   "id": "3860258f",
   "metadata": {},
   "source": [
    "## 29. 取出列表 L1 = [1, 2, 3, 11, 2, 5, 3, 2, 5, 33, 88] 中最大的三个值。"
   ]
  },
  {
   "cell_type": "code",
   "execution_count": 60,
   "id": "fb5e2286",
   "metadata": {},
   "outputs": [
    {
     "data": {
      "text/plain": [
       "[1, 2, 2]"
      ]
     },
     "execution_count": 60,
     "metadata": {},
     "output_type": "execute_result"
    }
   ],
   "source": [
    "def test():\n",
    "    L1 = [1, 2, 3, 11, 2, 5, 3, 2, 5, 33, 88]\n",
    "    return sorted(L1)[:3]\n",
    "\n",
    "test()"
   ]
  },
  {
   "cell_type": "markdown",
   "id": "477e5756",
   "metadata": {},
   "source": [
    "## 30. 把列表 a = [1, -6, 2, -5, 9, 4, 20, -3] 中的数字绝对值从小到大排序。"
   ]
  },
  {
   "cell_type": "code",
   "execution_count": 61,
   "id": "b24ec228",
   "metadata": {},
   "outputs": [
    {
     "name": "stdout",
     "output_type": "stream",
     "text": [
      "[1, 6, 2, 5, 9, 4, 20, 3]\n"
     ]
    }
   ],
   "source": [
    "def test():\n",
    "    a = [1, -6, 2, -5, 9, 4, 20, -3]\n",
    "    # 定义一个数组，存放处理后的绝对值数据\n",
    "    lists = []\n",
    "    for i in a:\n",
    "     # 使用 abs() 方法处理绝对值\n",
    "        lists.append(abs(i))\n",
    "    return lists\n",
    "\n",
    "print(test())"
   ]
  },
  {
   "cell_type": "markdown",
   "id": "8b37429a",
   "metadata": {},
   "source": [
    "**Python学习不迷路**\n",
    "- 关注微信公众号：简说Python\n",
    "\n",
    "- 关注微信视频号：老表Max"
   ]
  },
  {
   "cell_type": "code",
   "execution_count": null,
   "id": "6c922244",
   "metadata": {},
   "outputs": [],
   "source": []
  }
 ],
 "metadata": {
  "kernelspec": {
   "display_name": "Python 3 (ipykernel)",
   "language": "python",
   "name": "python3"
  },
  "language_info": {
   "codemirror_mode": {
    "name": "ipython",
    "version": 3
   },
   "file_extension": ".py",
   "mimetype": "text/x-python",
   "name": "python",
   "nbconvert_exporter": "python",
   "pygments_lexer": "ipython3",
   "version": "3.7.3"
  },
  "toc": {
   "base_numbering": 1,
   "nav_menu": {},
   "number_sections": true,
   "sideBar": true,
   "skip_h1_title": false,
   "title_cell": "Table of Contents",
   "title_sidebar": "Contents",
   "toc_cell": false,
   "toc_position": {},
   "toc_section_display": true,
   "toc_window_display": true
  }
 },
 "nbformat": 4,
 "nbformat_minor": 5
}
