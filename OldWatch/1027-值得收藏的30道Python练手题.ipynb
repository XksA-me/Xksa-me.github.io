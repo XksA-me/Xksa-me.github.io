{
 "cells": [
  {
   "cell_type": "code",
   "execution_count": 2,
   "id": "68b80902",
   "metadata": {},
   "outputs": [
    {
     "name": "stdout",
     "output_type": "stream",
     "text": [
      "Python 3.10.0\r\n"
     ]
    }
   ],
   "source": [
    "!python3 --version"
   ]
  },
  {
   "cell_type": "markdown",
   "id": "1faf2da8",
   "metadata": {},
   "source": [
    "1. 已知一个字符串为 “hello_world_yoyo”，如何得到一个队列 [“hello”,”world”,”yoyo”] ？"
   ]
  },
  {
   "cell_type": "code",
   "execution_count": 9,
   "id": "49a4d0f2",
   "metadata": {},
   "outputs": [
    {
     "data": {
      "text/plain": [
       "['hello', 'world', 'yoyo']"
      ]
     },
     "execution_count": 9,
     "metadata": {},
     "output_type": "execute_result"
    }
   ],
   "source": [
    "a = 'hello_world_yoyo'\n",
    "a.split('_')   # 对字符串进行分割"
   ]
  },
  {
   "cell_type": "markdown",
   "id": "cf296a74",
   "metadata": {},
   "source": [
    "2. 有个列表 [“hello”, “world”, “yoyo”]，如何把列表里面的字符串联起来，得到字符串 “hello_world_yoyo”？"
   ]
  },
  {
   "cell_type": "code",
   "execution_count": 11,
   "id": "86676573",
   "metadata": {},
   "outputs": [
    {
     "data": {
      "text/plain": [
       "'hello_world_yoyo'"
      ]
     },
     "execution_count": 11,
     "metadata": {},
     "output_type": "execute_result"
    }
   ],
   "source": [
    "a = ['hello', 'world', 'yoyo']\n",
    "'_'.join(a)  # 连接列表为字符串"
   ]
  },
  {
   "cell_type": "markdown",
   "id": "177a0bf2",
   "metadata": {},
   "source": [
    "3. 把字符串 s 中的每个空格替换成”%20”，输入：s = “We are happy.”，输出：“We%20are%20happy.”。"
   ]
  },
  {
   "cell_type": "code",
   "execution_count": 12,
   "id": "3eb0d142",
   "metadata": {},
   "outputs": [
    {
     "data": {
      "text/plain": [
       "'“We%20are%20happy.”'"
      ]
     },
     "execution_count": 12,
     "metadata": {},
     "output_type": "execute_result"
    }
   ],
   "source": [
    "s = '“We are happy.”'\n",
    "s.replace(' ', '%20')  # 将字符串中指定符号替换成指定符号"
   ]
  },
  {
   "cell_type": "markdown",
   "id": "75259af5",
   "metadata": {},
   "source": [
    "4. Python 如何打印 99 乘法表？"
   ]
  },
  {
   "cell_type": "code",
   "execution_count": 13,
   "id": "773b47a3",
   "metadata": {},
   "outputs": [
    {
     "name": "stdout",
     "output_type": "stream",
     "text": [
      "1x1=1\t\n",
      "1x2=2\t2x2=4\t\n",
      "1x3=3\t2x3=6\t3x3=9\t\n",
      "1x4=4\t2x4=8\t3x4=12\t4x4=16\t\n",
      "1x5=5\t2x5=10\t3x5=15\t4x5=20\t5x5=25\t\n",
      "1x6=6\t2x6=12\t3x6=18\t4x6=24\t5x6=30\t6x6=36\t\n",
      "1x7=7\t2x7=14\t3x7=21\t4x7=28\t5x7=35\t6x7=42\t7x7=49\t\n",
      "1x8=8\t2x8=16\t3x8=24\t4x8=32\t5x8=40\t6x8=48\t7x8=56\t8x8=64\t\n",
      "1x9=9\t2x9=18\t3x9=27\t4x9=36\t5x9=45\t6x9=54\t7x9=63\t8x9=72\t9x9=81\t\n"
     ]
    }
   ],
   "source": [
    "# 1*1 \n",
    "# 1*2 2*2\n",
    "# 1*3 2*3 3*3\n",
    "for i in range(1, 10):\n",
    "    for j in range(1, i+1):\n",
    "        print('{}x{}={}\\t'.format(j, i, i*j), end='')  # format 格式化输出的函数\n",
    "    print()"
   ]
  },
  {
   "cell_type": "code",
   "execution_count": 17,
   "id": "18e31ba2",
   "metadata": {},
   "outputs": [
    {
     "name": "stdout",
     "output_type": "stream",
     "text": [
      "1x1=1  \n",
      "2x1=2  2x2=4  \n",
      "3x1=3  3x2=6  3x3=9  \n",
      "4x1=4  4x2=8  4x3=12 4x4=16 \n",
      "5x1=5  5x2=10 5x3=15 5x4=20 5x5=25 \n",
      "6x1=6  6x2=12 6x3=18 6x4=24 6x5=30 6x6=36 \n",
      "7x1=7  7x2=14 7x3=21 7x4=28 7x5=35 7x6=42 7x7=49 \n",
      "8x1=8  8x2=16 8x3=24 8x4=32 8x5=40 8x6=48 8x7=56 8x8=64 \n",
      "9x1=9  9x2=18 9x3=27 9x4=36 9x5=45 9x6=54 9x7=63 9x8=72 9x9=81 \n"
     ]
    }
   ],
   "source": [
    "i = 1\n",
    "while i <= 9:\n",
    "    j = 1\n",
    "    while j <= i:\n",
    "        print(\"%dx%d=%-2d\"%(i,j,i*j),end = ' ')  # %d： 整数的占位符，'-2'代表靠左对齐，两个占位符\n",
    "        j += 1\n",
    "    print()\n",
    "    i += 1"
   ]
  },
  {
   "cell_type": "markdown",
   "id": "1dc9500c",
   "metadata": {},
   "source": [
    "5. 从下标 0 开始索引，找出单词 “welcome” 在字符串“Hello, welcome to my world.” 中出现的位置，找不到返回 -1。"
   ]
  },
  {
   "cell_type": "code",
   "execution_count": 18,
   "id": "99d37c44",
   "metadata": {},
   "outputs": [
    {
     "name": "stdout",
     "output_type": "stream",
     "text": [
      "7\n"
     ]
    }
   ],
   "source": [
    "def find_str():\n",
    "    message = 'Hello, welcome to my world.'\n",
    "    world = 'welcome'\n",
    "    if world in message:\n",
    "        return message.find(world)  # 字符串里的函数find 返回指定的字符串出现在字符串内的位置（下标）\n",
    "    else:\n",
    "        return -1\n",
    "\n",
    "\n",
    "print(find_str())"
   ]
  },
  {
   "cell_type": "markdown",
   "id": "f6907084",
   "metadata": {},
   "source": [
    "6. 统计字符串“Hello, welcome to my world.” 中字母 w 出现的次数。"
   ]
  },
  {
   "cell_type": "code",
   "execution_count": 19,
   "id": "ae053f58",
   "metadata": {},
   "outputs": [
    {
     "name": "stdout",
     "output_type": "stream",
     "text": [
      "2\n"
     ]
    }
   ],
   "source": [
    "def count_w():\n",
    "    message = 'Hello, welcome to my world.'\n",
    "    # 计数\n",
    "    num = 0\n",
    "    # for 循环 message\n",
    "    for i in message:\n",
    "        # 判断如果 ‘w’ 字符串在 message 中，则 num +1\n",
    "        if 'w' in i:\n",
    "            num += 1\n",
    "    return num\n",
    "\n",
    "\n",
    "print(count_w())"
   ]
  },
  {
   "cell_type": "markdown",
   "id": "850664f9",
   "metadata": {},
   "source": [
    "7. 输入一个字符串 str，输出第 m 个只出现过 n 次的字符，如在字符串 gbgkkdehh 中，找出第 2 个只出现 1 次的字符，输出结果：d"
   ]
  },
  {
   "cell_type": "code",
   "execution_count": 20,
   "id": "9bfeda8b",
   "metadata": {},
   "outputs": [
    {
     "name": "stdout",
     "output_type": "stream",
     "text": [
      "d\n"
     ]
    }
   ],
   "source": [
    "def count_n_m(str_test, num, counts):\n",
    "    \"\"\"\n",
    "    :param str_test: 字符串\n",
    "    :param num: 字符串的顺序\n",
    "    :param count: 字符串第几次出现的次数\n",
    "    :return:\n",
    "    \"\"\"\n",
    "    # 定义一个空数组，存放逻辑处理后的数据\n",
    "    list = []\n",
    "\n",
    "    # for循环字符串的数据\n",
    "    for i in str_test:\n",
    "        # 使用 count 函数，统计出所有字符串出现的次数\n",
    "        count = str_test.count(i, 0, len(str_test))\n",
    "\n",
    "        # 判断字符串出现的次数与设置的counts的次数相同，则将数据存放在list数组中\n",
    "        if count == num:\n",
    "            list.append(i)\n",
    "\n",
    "    # 返回第n次出现的字符串\n",
    "    return list[counts-1]\n",
    "\n",
    "\n",
    "print(count_n_m('gbgkkdehh', 1, 2))"
   ]
  },
  {
   "cell_type": "markdown",
   "id": "df640e4c",
   "metadata": {},
   "source": [
    "*8. 判断字符串 a = “welcome to my world” 是否包含单词 b = “world”，包含返回 True，不包含返回 False。"
   ]
  },
  {
   "cell_type": "code",
   "execution_count": 7,
   "id": "43153dfb",
   "metadata": {},
   "outputs": [],
   "source": [
    "a = \"welcometomyworld\"\n",
    "b = \"world\""
   ]
  },
  {
   "cell_type": "code",
   "execution_count": 8,
   "id": "a9096183",
   "metadata": {},
   "outputs": [
    {
     "data": {
      "text/plain": [
       "True"
      ]
     },
     "execution_count": 8,
     "metadata": {},
     "output_type": "execute_result"
    }
   ],
   "source": [
    "b in a"
   ]
  },
  {
   "cell_type": "code",
   "execution_count": null,
   "id": "3f2a3275",
   "metadata": {},
   "outputs": [],
   "source": [
    "for i in range(len(a)):\n",
    "    for j in range(len(b)):\n",
    "        if b[j] == a[i]:\n",
    "            i = i + 1\n",
    "        \n",
    "        "
   ]
  },
  {
   "cell_type": "code",
   "execution_count": null,
   "id": "7efb4eb7",
   "metadata": {},
   "outputs": [],
   "source": [
    "# 遍历a 判断是否相等，如果相等则继续判断第二个字符，不相等就往后移动"
   ]
  },
  {
   "cell_type": "markdown",
   "id": "1410ffef",
   "metadata": {},
   "source": [
    "9. 从 0 开始计数，输出指定字符串 A = “hello” 在字符串 B = “hi how are you hello world, hello yoyo!”中第一次出现的位置，如果 B 中不包含 A，则输出 -1。"
   ]
  },
  {
   "cell_type": "code",
   "execution_count": 21,
   "id": "30b53297",
   "metadata": {},
   "outputs": [],
   "source": [
    "b = '“hi how are you hello world, hello yoyo!”'\n",
    "a = 'hello'"
   ]
  },
  {
   "cell_type": "code",
   "execution_count": 24,
   "id": "d16f28c7",
   "metadata": {},
   "outputs": [
    {
     "name": "stdout",
     "output_type": "stream",
     "text": [
      "15\n"
     ]
    }
   ],
   "source": [
    "def find_str_first():\n",
    "    message = 'hi how are you hello world, hello yoyo!'\n",
    "    world = 'hello'\n",
    "\n",
    "    return message.find(world)\n",
    "\n",
    "\n",
    "print(find_str_first())"
   ]
  },
  {
   "cell_type": "markdown",
   "id": "c40e210a",
   "metadata": {},
   "source": [
    "10. 从 0 开始计数，输出指定字符串 A = “hello”在字符串 B = “hi how are you hello world, hello yoyo!”中最后出现的位置，如果 B 中不包含 A，则输出 -1。"
   ]
  },
  {
   "cell_type": "code",
   "execution_count": 27,
   "id": "8a42559e",
   "metadata": {},
   "outputs": [
    {
     "name": "stdout",
     "output_type": "stream",
     "text": [
      "15\n",
      "28\n",
      "-1\n",
      "28\n"
     ]
    }
   ],
   "source": [
    "def find_str_final(string, str):\n",
    "    # 定义 last_position 初始值为 -1\n",
    "    last_position = -1\n",
    "    while True:\n",
    "        position = string.find(str, last_position+1)  # 当find找不到的时候，就会变成-1\n",
    "        print(position)\n",
    "        if position == -1:\n",
    "            return last_position\n",
    "        last_position = position\n",
    "\n",
    "\n",
    "print(find_str_final('hi how are you hello world, hello yoyo!', 'hello'))"
   ]
  },
  {
   "cell_type": "markdown",
   "id": "adb9d8cd",
   "metadata": {},
   "source": [
    "11. 给定一个数 a，判断一个数字是否为奇数或偶数。"
   ]
  },
  {
   "cell_type": "code",
   "execution_count": 33,
   "id": "6486dfda",
   "metadata": {},
   "outputs": [
    {
     "name": "stdout",
     "output_type": "stream",
     "text": [
      "输入一个整数：3\n",
      "奇数\n",
      "输入一个整数：6\n",
      "偶数\n",
      "输入一个整数：0\n"
     ]
    }
   ],
   "source": [
    "while True:\n",
    "    try:\n",
    "        # 判断输入是否为整数\n",
    "        num = int(input('输入一个整数：'))\n",
    "    # 不是纯数字需要重新输入\n",
    "    except ValueError: \n",
    "        print(\"输入的不是整数！\")\n",
    "        continue\n",
    "    if num == 0:\n",
    "        break\n",
    "    elif num % 2 == 1:\n",
    "        print('奇数')\n",
    "    else:\n",
    "        print('偶数')"
   ]
  },
  {
   "cell_type": "markdown",
   "id": "f67d1bab",
   "metadata": {},
   "source": [
    "12. 输入一个姓名，判断是否姓王。"
   ]
  },
  {
   "cell_type": "code",
   "execution_count": null,
   "id": "7b15fd57",
   "metadata": {},
   "outputs": [],
   "source": [
    "def judge_name():\n",
    "    user_input = input(\"请输入您的姓名：\")\n",
    "\n",
    "    if user_input[0] == '王':\n",
    "        return \"用户姓王\"\n",
    "\n",
    "    return \"用户不姓王\"\n",
    "\n",
    "print(test())"
   ]
  },
  {
   "cell_type": "markdown",
   "id": "f8a54965",
   "metadata": {},
   "source": [
    "13. 如何判断一个字符串是不是纯数字组成？"
   ]
  },
  {
   "cell_type": "code",
   "execution_count": 36,
   "id": "2e520b58",
   "metadata": {},
   "outputs": [
    {
     "name": "stdout",
     "output_type": "stream",
     "text": [
      "请输入数字\n"
     ]
    }
   ],
   "source": [
    "def judge_int(num):\n",
    "    try:\n",
    "        return int(num)\n",
    "    except ValueError:\n",
    "        return \"请输入数字\"\n",
    "\n",
    "\n",
    "print(judge_int('133w3'))"
   ]
  },
  {
   "cell_type": "markdown",
   "id": "50de12e0",
   "metadata": {},
   "source": [
    "14. 将字符串 a = “This is string example….wow!” 全部转成大写，字符串 b = “Welcome To My World” 全部转成小写。"
   ]
  },
  {
   "cell_type": "code",
   "execution_count": 37,
   "id": "9c4c1c32",
   "metadata": {},
   "outputs": [
    {
     "name": "stdout",
     "output_type": "stream",
     "text": [
      "“THIS IS STRING EXAMPLE….WOW!” \n",
      "“welcome to my world”\n"
     ]
    }
   ],
   "source": [
    "a = '“This is string example….wow!” '\n",
    "b = '“Welcome To My World”'\n",
    "print(a.upper())\n",
    "print(b.lower())"
   ]
  },
  {
   "cell_type": "markdown",
   "id": "550c71c1",
   "metadata": {},
   "source": [
    "15. 将字符串 a = “ welcome to my world ”首尾空格去掉"
   ]
  },
  {
   "cell_type": "code",
   "execution_count": 42,
   "id": "a6a2e618",
   "metadata": {},
   "outputs": [
    {
     "data": {
      "text/plain": [
       "'welcome to my world'"
      ]
     },
     "execution_count": 42,
     "metadata": {},
     "output_type": "execute_result"
    }
   ],
   "source": [
    "a = ' welcome to my world  '\n",
    "a.strip(' ')"
   ]
  },
  {
   "cell_type": "code",
   "execution_count": 43,
   "id": "42946908",
   "metadata": {},
   "outputs": [
    {
     "name": "stdout",
     "output_type": "stream",
     "text": [
      "Hello world!\n"
     ]
    }
   ],
   "source": [
    "def trim(s):\n",
    "    flag = 0\n",
    "    if s[:1]==' ':\n",
    "        s = s[1:]\n",
    "        flag = 1\n",
    "    if s[-1:] == ' ':\n",
    "        s = s[:-1]\n",
    "        flag = 1\n",
    "    if flag==1:\n",
    "        return    trim(s)\n",
    "    else:\n",
    "        return s\n",
    "print(trim('  Hello world!  '))"
   ]
  },
  {
   "cell_type": "code",
   "execution_count": null,
   "id": "9011d348",
   "metadata": {},
   "outputs": [],
   "source": []
  }
 ],
 "metadata": {
  "kernelspec": {
   "display_name": "Python 3 (ipykernel)",
   "language": "python",
   "name": "python3"
  },
  "language_info": {
   "codemirror_mode": {
    "name": "ipython",
    "version": 3
   },
   "file_extension": ".py",
   "mimetype": "text/x-python",
   "name": "python",
   "nbconvert_exporter": "python",
   "pygments_lexer": "ipython3",
   "version": "3.7.3"
  }
 },
 "nbformat": 4,
 "nbformat_minor": 5
}
